{
 "cells": [
  {
   "cell_type": "markdown",
   "id": "8e52c777",
   "metadata": {},
   "source": []
  },
  {
   "cell_type": "code",
   "execution_count": null,
   "id": "347794a4",
   "metadata": {},
   "outputs": [],
   "source": [
    "# セル①\n",
    "import pandas as pd\n",
    "import numpy as np\n",
    "import matplotlib\n",
    "from sklearn.datasets import load_diabetes\n",
    "from datetime import datetime, timedelta\n",
    "from eda_dashbord_tsdatasets import create_eda_dashboard\n",
    "\n",
    "# Notebookでの日本語フォント設定\n",
    "matplotlib.rcParams['font.family'] = 'Yu Gothic'\n",
    "matplotlib.rcParams['axes.unicode_minus'] = False"
   ]
  },
  {
   "cell_type": "code",
   "execution_count": 2,
   "id": "bf2c9c13",
   "metadata": {},
   "outputs": [],
   "source": [
    "# セル②：疑似的に時系列データに変換\n",
    "data = load_diabetes()\n",
    "df = pd.DataFrame(data.data, columns=data.feature_names)\n",
    "df['target'] = data.target\n",
    "df.index = pd.date_range(start='2023-01-01', periods=len(df), freq='D')\n",
    "df.index.name = 'date'\n"
   ]
  },
  {
   "cell_type": "code",
   "execution_count": 3,
   "id": "3af97d1e",
   "metadata": {},
   "outputs": [
    {
     "data": {
      "application/vnd.jupyter.widget-view+json": {
       "model_id": "9a9fc0bb12864c88bbf09eb83105e26b",
       "version_major": 2,
       "version_minor": 0
      },
      "text/plain": [
       "VBox(children=(Dropdown(description='列名:', layout=Layout(width='50%'), options=('age', 'sex', 'bmi', 'bp', 's1…"
      ]
     },
     "metadata": {},
     "output_type": "display_data"
    },
    {
     "data": {
      "application/vnd.jupyter.widget-view+json": {
       "model_id": "b8c4bf60d51843628236e22bfe010756",
       "version_major": 2,
       "version_minor": 0
      },
      "text/plain": [
       "Output()"
      ]
     },
     "metadata": {},
     "output_type": "display_data"
    }
   ],
   "source": [
    "# セル③：曜日列追加 + ダッシュボード起動\n",
    "df['weekday'] = df.index.dayofweek\n",
    "create_eda_dashboard(df, target_cols=['target'])\n"
   ]
  }
 ],
 "metadata": {
  "kernelspec": {
   "display_name": ".venv",
   "language": "python",
   "name": "python3"
  },
  "language_info": {
   "codemirror_mode": {
    "name": "ipython",
    "version": 3
   },
   "file_extension": ".py",
   "mimetype": "text/x-python",
   "name": "python",
   "nbconvert_exporter": "python",
   "pygments_lexer": "ipython3",
   "version": "3.9.6"
  }
 },
 "nbformat": 4,
 "nbformat_minor": 5
}
